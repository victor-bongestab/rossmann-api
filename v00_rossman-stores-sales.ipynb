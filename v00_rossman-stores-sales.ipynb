{
 "cells": [
  {
   "cell_type": "markdown",
   "id": "b6084673-ab6f-445b-81b2-647362040b10",
   "metadata": {
    "tags": []
   },
   "source": [
    "# 0 IMPORTS"
   ]
  },
  {
   "cell_type": "markdown",
   "id": "021b7f4f-7338-4358-88cd-df30aec4df4b",
   "metadata": {
    "tags": []
   },
   "source": [
    "## 0.2 Loading Data"
   ]
  },
  {
   "cell_type": "code",
   "execution_count": 4,
   "id": "a096f18a-7523-44c0-a2e0-726d9ee86607",
   "metadata": {},
   "outputs": [],
   "source": [
    "import pandas as pd\n",
    "import warnings\n",
    "warnings.filterwarnings('ignore')\n",
    "\n",
    "df_sales_raw = pd.read_csv( 'data/train.csv', low_memory=False )\n",
    "df_store_raw = pd.read_csv( 'data/store.csv', low_memory=False )\n",
    "\n",
    "# merge\n",
    "df_raw = pd.merge( df_sales_raw, df_store_raw, how='left', on='Store')"
   ]
  },
  {
   "cell_type": "markdown",
   "id": "72f3fa0c-42e9-4392-aa50-f9bde9dddc6b",
   "metadata": {
    "tags": []
   },
   "source": [
    "# 10 DEPLOY MODEL TO PRODUCTION"
   ]
  },
  {
   "cell_type": "markdown",
   "id": "2f0a8ed9-d53d-45aa-91ee-6e6aa7cb3d0b",
   "metadata": {
    "tags": []
   },
   "source": [
    "## 10.3 API Tester"
   ]
  },
  {
   "cell_type": "code",
   "execution_count": 5,
   "id": "30b968d7-c665-40a9-b4f3-b629c3a14fa2",
   "metadata": {},
   "outputs": [],
   "source": [
    "import requests\n",
    "import json"
   ]
  },
  {
   "cell_type": "code",
   "execution_count": 6,
   "id": "d111bb56-7cdb-487f-be9e-5fb1f54e4cc7",
   "metadata": {},
   "outputs": [],
   "source": [
    "# loading test dataset\n",
    "df10 = pd.read_csv( 'C:/Users/victo/comunidade_ds/repos/Rossmann-Stores-Sales/data/test.csv' )\n",
    "\n",
    "# merge test + store dataset\n",
    "df_test = pd.merge( df10, df_store_raw, how='left', on='Store' )\n",
    "\n",
    "# choose store for prediction\n",
    "df_test = df_test[ df_test['Store'].isin( [ 12, 22 ] ) ]\n",
    "\n",
    "# basic cleaning\n",
    "df_test = df_test[ df_test['Open'] != 0 ]\n",
    "df_test = df_test[ ~df_test['Open'].isnull() ] # '~df_test['Open'].isnull()' means 'taking anything other than df_test['Open'].isnull()'\n",
    "df_test = df_test.drop( 'Id', axis=1 )\n",
    "\n",
    "# convert Dataframe to json\n",
    "data = json.dumps( df_test.to_dict( orient='records' ) )"
   ]
  },
  {
   "cell_type": "code",
   "execution_count": 8,
   "id": "0692e323-1a27-40f3-ad00-bf7862a231b8",
   "metadata": {},
   "outputs": [
    {
     "name": "stdout",
     "output_type": "stream",
     "text": [
      "Status Code 200\n"
     ]
    }
   ],
   "source": [
    "# API Call\n",
    "# local\n",
    "url = 'http://10.0.0.23:5000/rossmann/predict'\n",
    "\n",
    "# web\n",
    "#url = '.../rossmann/predict'\n",
    "\n",
    "header = {'Content-type': 'application/json'}\n",
    "data = data\n",
    "\n",
    "r = requests.post( url, data=data, headers=header )\n",
    "print( 'Status Code {}'.format( r.status_code ) )"
   ]
  },
  {
   "cell_type": "code",
   "execution_count": 9,
   "id": "873e9d72-aedb-4920-8189-92f0983197a1",
   "metadata": {},
   "outputs": [
    {
     "name": "stdout",
     "output_type": "stream",
     "text": [
      "Store Number 12 will sell $242,805.44 in the next 6 weeks.\n",
      "Store Number 22 will sell $184,507.55 in the next 6 weeks.\n"
     ]
    }
   ],
   "source": [
    "d1 = pd.DataFrame( r.json(), columns=r.json()[0].keys() )\n",
    "\n",
    "d2 = d1[[ 'store', 'prediction' ]].groupby('store').sum().reset_index()\n",
    "\n",
    "for i in range( len( d2 ) ):\n",
    "    print( 'Store Number {} will sell ${:,.2f} in the next 6 weeks.'.format( d2.loc[ i, 'store' ],\n",
    "                                                                       d2.loc[ i, 'prediction' ] ) )"
   ]
  },
  {
   "cell_type": "code",
   "execution_count": null,
   "id": "8b0c51e6-7cc9-48b7-952f-b8831b4112f1",
   "metadata": {},
   "outputs": [],
   "source": []
  }
 ],
 "metadata": {
  "kernelspec": {
   "display_name": "rossmann-api",
   "language": "python",
   "name": "rossmann-api"
  },
  "language_info": {
   "codemirror_mode": {
    "name": "ipython",
    "version": 3
   },
   "file_extension": ".py",
   "mimetype": "text/x-python",
   "name": "python",
   "nbconvert_exporter": "python",
   "pygments_lexer": "ipython3",
   "version": "3.12.1"
  }
 },
 "nbformat": 4,
 "nbformat_minor": 5
}
